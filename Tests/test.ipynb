{
 "cells": [
  {
   "cell_type": "code",
   "execution_count": 3,
   "id": "f65b4eb8",
   "metadata": {},
   "outputs": [],
   "source": [
    "import json\n",
    "from urllib.request import urlopen\n",
    "\n",
    "def fetch_lap_data(save_to_file=True, filename=\"lap_data.json\"):\n",
    "    url = 'https://api.openf1.org/v1/laps?session_key=9967'\n",
    "    try:\n",
    "        response = urlopen(url)\n",
    "        raw = response.read().decode('utf-8')\n",
    "        data = json.loads(raw)\n",
    "        \n",
    "        print(f\"✅ API respondió con {len(data)} vueltas\")\n",
    "\n",
    "        if save_to_file:\n",
    "            with open(filename, 'w', encoding='utf-8') as f:\n",
    "                json.dump(data, f, indent=2, ensure_ascii=False)\n",
    "            print(f\"💾 Datos guardados en {filename}\")\n",
    "\n",
    "        return data\n",
    "\n",
    "    except Exception as e:\n",
    "        print(f\"❌ Error al hacer fetch desde la API: {e}\")\n",
    "        return []\n"
   ]
  }
 ],
 "metadata": {
  "kernelspec": {
   "display_name": "Python 3",
   "language": "python",
   "name": "python3"
  },
  "language_info": {
   "codemirror_mode": {
    "name": "ipython",
    "version": 3
   },
   "file_extension": ".py",
   "mimetype": "text/x-python",
   "name": "python",
   "nbconvert_exporter": "python",
   "pygments_lexer": "ipython3",
   "version": "3.10.12"
  }
 },
 "nbformat": 4,
 "nbformat_minor": 5
}
